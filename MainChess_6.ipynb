{
 "cells": [
  {
   "cell_type": "code",
   "execution_count": 1,
   "metadata": {},
   "outputs": [
    {
     "name": "stdout",
     "output_type": "stream",
     "text": [
      "Bitte ein Pseudonym(<= 5 Zeichen) für den weißen Spieler eingeben: \n",
      "hndrk\n",
      "Bitte ein Pseudonym(<= 5 Zeichen) für den schwarzen Spieler eingeben: \n",
      "berk\n"
     ]
    }
   ],
   "source": [
    "#include \"Game.hpp\"\n",
    "\n",
    "int x = 10;\n",
    "int y = 670;\n",
    "int check = 0;\n",
    "string taste = \"\";\n",
    "string name1;\n",
    "string name2;\n",
    "MouseState maus;\n",
    "Chessboard board = Chessboard();\n",
    "\n",
    "do {\n",
    "    \n",
    "cout << \"Bitte ein Pseudonym(<= 5 Zeichen) für den weißen Spieler eingeben: \" << \"\\n\";\n",
    "cin >> name1;\n",
    "    \n",
    "} while(name1.size() > 5 );\n",
    "\n",
    "do {\n",
    "    \n",
    "cout << \"Bitte ein Pseudonym(<= 5 Zeichen) für den schwarzen Spieler eingeben: \" << \"\\n\";\n",
    "cin >> name2;\n",
    "    \n",
    "} while(name2.size() > 5 );\n",
    "\n",
    "Game game = Game(name1,name2);\n"
   ]
  },
  {
   "cell_type": "code",
   "execution_count": 2,
   "metadata": {},
   "outputs": [],
   "source": [
    "void printMoves(int startx, int starty, int endx, int endy,int &x,int &y,int &check) {\n",
    "        SVG *anzeige = board.getSVG();\n",
    "        string xko = \"abcdefgh\";\n",
    "        string yko = \"12345678\";\n",
    "        \n",
    "        Player *player = game.getCurrentPlayer();\n",
    "        string name = player->getName();\n",
    "\n",
    "\n",
    "        string move = name + \": \" + xko[startx] + yko[starty] + \"->\" + xko[endx] + yko[endy];\n",
    "        anzeige->drawText(move,x,y,12);\n",
    "        \n",
    "        y = y + 12;\n",
    "        \n",
    "        if (y >= 955 && x == 10 + check) {\n",
    "            \n",
    "            y = 650;\n",
    "            x = x + 100;\n",
    "            check = check + 100;\n",
    "        }\n",
    "\n",
    "    }"
   ]
  },
  {
   "cell_type": "code",
   "execution_count": null,
   "metadata": {},
   "outputs": [],
   "source": [
    "int size = 80;\n",
    "\n",
    "\n",
    "board.createBoard(size);\n",
    "SVG *chess = board.getSVG();\n",
    "     \n",
    "do {\n",
    "    taste = chess->lastKey();\n",
    "    MouseState maus;\n",
    "        //Es wird gewartet, bis eine Figur ausgewählt wird\n",
    "        maus = chess->waitForClick();\n",
    "    \n",
    "        //Das Startfeld wird ausgewählt\n",
    "        if ( maus.isLegal() ) {\n",
    "            // Berechne die Koordinaten des Pixels\n",
    "            int startx = maus.x()/size;\n",
    "            int starty = maus.y()/size;\n",
    "            /*\n",
    "            Circle position = Circle(maus.x(),maus.y(),40,&board.getSVG())*/\n",
    "                        \n",
    "            maus = chess->waitForClick();\n",
    "            \n",
    "            if(maus.isLegal()) {\n",
    "                int endx = maus.x()/size;\n",
    "                int endy = maus.y()/size;\n",
    "                \n",
    "                if((startx != endx) || (starty != endy)) {\n",
    "                    if(board.doMove(startx,starty,endx,endy,game.getCurrentPlayer())) {\n",
    "                        cout << \"Zug gültig!\" << \"\\n\";\n",
    "                        printMoves(startx,starty,endx,endy,x,y,check);\n",
    "                        game.switchTurn();\n",
    "                    } else {\n",
    "                        cout << \"Zug ungültig!\" << \"\\n\";\n",
    "                    }                \n",
    "                }\n",
    "            }      \n",
    "        } \n",
    "} while (!game.gameOver(board));\n",
    "\n",
    "game.getWinner(board);"
   ]
  },
  {
   "cell_type": "code",
   "execution_count": 1,
   "metadata": {},
   "outputs": [],
   "source": [
    "?SVG\n"
   ]
  },
  {
   "cell_type": "code",
   "execution_count": 2,
   "metadata": {},
   "outputs": [],
   "source": [
    "?Circle"
   ]
  },
  {
   "cell_type": "code",
   "execution_count": null,
   "metadata": {},
   "outputs": [],
   "source": []
  }
 ],
 "metadata": {
  "kernelspec": {
   "display_name": "C++17",
   "language": "C++17",
   "name": "xcpp17"
  },
  "language_info": {
   "codemirror_mode": "text/x-c++src",
   "file_extension": ".cpp",
   "mimetype": "text/x-c++src",
   "name": "c++",
   "version": "17"
  }
 },
 "nbformat": 4,
 "nbformat_minor": 4
}
